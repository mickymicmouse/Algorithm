{
 "cells": [
  {
   "cell_type": "code",
   "execution_count": 1,
   "metadata": {},
   "outputs": [],
   "source": [
    "import numpy as np"
   ]
  },
  {
   "cell_type": "code",
   "execution_count": 2,
   "metadata": {},
   "outputs": [
    {
     "data": {
      "text/plain": [
       "array([1, 2])"
      ]
     },
     "execution_count": 2,
     "metadata": {},
     "output_type": "execute_result"
    }
   ],
   "source": [
    "np.array([1,2])"
   ]
  },
  {
   "cell_type": "code",
   "execution_count": 6,
   "metadata": {},
   "outputs": [
    {
     "name": "stdout",
     "output_type": "stream",
     "text": [
      "{2 3 1 4 }\n",
      "\n",
      "{2 3 1 }\n",
      "\n",
      "{2 3 4 }\n",
      "\n",
      "{2 3 }\n",
      "\n",
      "{2 1 4 }\n",
      "\n",
      "{2 1 }\n",
      "\n",
      "{2 4 }\n",
      "\n",
      "{2 }\n",
      "\n",
      "{3 1 4 }\n",
      "\n",
      "{3 1 }\n",
      "\n",
      "{3 4 }\n",
      "\n",
      "{3 }\n",
      "\n",
      "{1 4 }\n",
      "\n",
      "{1 }\n",
      "\n",
      "{4 }\n",
      "\n",
      "{}\n",
      "\n"
     ]
    }
   ],
   "source": [
    "arr = [2,3,1,4]\n",
    "flag = [0]*len(arr)\n",
    "\n",
    "def powerset(n, depth):\n",
    "    if n==depth:\n",
    "        ans = \"\"\n",
    "        ans+=\"{\"\n",
    "        for i in range(n):\n",
    "            if flag[i]==1:\n",
    "                ans+=str(arr[i])\n",
    "                ans+=\" \"\n",
    "        ans+=\"}\\n\"\n",
    "        print(ans)\n",
    "        return\n",
    "    flag[depth]=1\n",
    "    powerset(n, depth+1)\n",
    "    flag[depth]=0\n",
    "    powerset(n, depth+1)\n",
    "\n",
    "powerset(len(arr), 0)"
   ]
  },
  {
   "cell_type": "code",
   "execution_count": null,
   "metadata": {},
   "outputs": [],
   "source": []
  }
 ],
 "metadata": {
  "kernelspec": {
   "display_name": "Python 3",
   "language": "python",
   "name": "python3"
  },
  "language_info": {
   "codemirror_mode": {
    "name": "ipython",
    "version": 3
   },
   "file_extension": ".py",
   "mimetype": "text/x-python",
   "name": "python",
   "nbconvert_exporter": "python",
   "pygments_lexer": "ipython3",
   "version": "3.8.5"
  }
 },
 "nbformat": 4,
 "nbformat_minor": 4
}
